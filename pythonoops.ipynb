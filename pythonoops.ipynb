{
  "nbformat": 4,
  "nbformat_minor": 0,
  "metadata": {
    "colab": {
      "provenance": []
    },
    "kernelspec": {
      "name": "python3",
      "display_name": "Python 3"
    },
    "language_info": {
      "name": "python"
    }
  },
  "cells": [
    {
      "cell_type": "code",
      "execution_count": null,
      "metadata": {
        "id": "h0UT4jyUa5rP"
      },
      "outputs": [],
      "source": []
    },
    {
      "cell_type": "markdown",
      "source": [
        "**1.What is Object-Oriented Programming (OOP)?**\n",
        "- Object-Oriented Programming (OOP) is a programming paradigm that organizes software design around objects, which are instances of classes. These objects contain data (attributes or properties) and behavior (methods or functions)."
      ],
      "metadata": {
        "id": "Rvu81HjJbAzr"
      }
    },
    {
      "cell_type": "markdown",
      "source": [
        "2**.What is a class in OOP?**\n",
        "- A class is a blueprint or template for creating objects in OOP. It defines the attributes (data/properties) and methods (functions/behavior) that the created objects will have"
      ],
      "metadata": {
        "id": "F6N3f3cobfJa"
      }
    },
    {
      "cell_type": "markdown",
      "source": [
        "**3.What is an object in OOP?**\n",
        "- An object is an instance of a class.\n",
        "It is a real-world entity created from the blueprint (class), and it stores actual data and can perform actions using methods defined in the class.\n",
        "\n"
      ],
      "metadata": {
        "id": "tWiq3QnucBLn"
      }
    },
    {
      "cell_type": "markdown",
      "source": [
        "4.**What is the difference between abstraction and encapsulation?**\n",
        "- Abstraction in Object-Oriented Programming is the process of hiding complex implementation details and showing only the essential features to the user, focusing on what an object does rather than how it does it.\n",
        "\n",
        "Encapsulation is the practice of wrapping data and methods into a single unit (class) and restricting access to some of the object's components to protect the integrity of the data, focusing on how data is accessed and modified.\n",
        "\n",
        "The key difference is that abstraction hides implementation complexity, while encapsulation hides internal data and enforces access control.\n",
        "\n"
      ],
      "metadata": {
        "id": "OdtgO_YicVMC"
      }
    },
    {
      "cell_type": "markdown",
      "source": [
        "**5.What are dunder methods in Python**?\n",
        "- Dunder methods (short for “double underscore” methods) are special methods in Python that have double underscores at the beginning and end of their names, like __init__, __str__, __len__, etc.\n",
        "\n",
        "They are also called:\n",
        "\n",
        "Magic methods\n",
        "\n",
        "Special methods\n",
        "\n",
        "These methods are automatically called by Python in specific situations to define or customize the behavior of objects."
      ],
      "metadata": {
        "id": "96kNiNo1c4U-"
      }
    },
    {
      "cell_type": "markdown",
      "source": [
        "**6.Explain the concept of inheritance in OOP.**\n",
        "- Inheritance is a fundamental concept in OOP that allows one class (called the child or subclass) to inherit the properties and behaviors (attributes and methods) of another class (called the parent or superclass).\n",
        "\n",
        "This promotes code reuse, extensibility, and maintainability.\n",
        "\n",
        "Inheritance is the mechanism in OOP that allows a new class to acquire the attributes and methods of an existing class, enabling code reuse and the creation of a hierarchical class structure."
      ],
      "metadata": {
        "id": "EcETDmkLdWbS"
      }
    },
    {
      "cell_type": "markdown",
      "source": [
        "7**.What is polymorphism in OOP?**\n",
        "- In OOP, it refers to the ability of different classes to be treated as the same type through a common interface, and for methods with the same name to behave differently depending on the object calling them.\n",
        "Polymorphism in OOP is the ability of different classes to respond to the same method call in different ways, allowing for flexibility and dynamic behavior in code."
      ],
      "metadata": {
        "id": "IG6i6YSCdzA3"
      }
    },
    {
      "cell_type": "markdown",
      "source": [
        "8**.How is encapsulation achieved in Python?**\n",
        "- Encapsulation in Python is achieved by restricting access to certain parts of an object and binding data (variables) and methods (functions) inside a class.Encapsulation in Python is implemented by defining class variables as private or protected using underscore prefixes, and by providing public methods (getters/setters) to access or modify them safely."
      ],
      "metadata": {
        "id": "R57fqDY5eJ5s"
      }
    },
    {
      "cell_type": "markdown",
      "source": [
        "9**.What is a constructor in Python?**\n",
        "- A constructor in Python is a special method used to initialize a newly created object.\n",
        "In Python, the constructor method is always named __init__.A constructor in Python is a special method called __init__ that is automatically executed when a new object of a class is created, allowing you to initialize object attributes."
      ],
      "metadata": {
        "id": "vvwLkwWWehUM"
      }
    },
    {
      "cell_type": "markdown",
      "source": [
        "1**0.What are class and static methods in Python?**\n",
        "- In Python, both class methods and static methods are used inside classes but differ in what they operate on and how they're defined.\n",
        "\n",
        "A class method is a method that operates on the class itself, not on the instance. It takes the class as its first argument, usually named cls.\n",
        "A static method is a method that does not depend on the instance or class. It behaves like a regular function but is kept inside the class for logical grouping."
      ],
      "metadata": {
        "id": "eCKvzMa3e5V5"
      }
    },
    {
      "cell_type": "markdown",
      "source": [
        "11.**What is method overloading in Python?**\n",
        "- Method overloading in Python refers to defining multiple methods with the same name but different arguments. However, Python does not support traditional method overloading like Java or C++; it handles it differently using default arguments or variable-length arguments.\n",
        "\n"
      ],
      "metadata": {
        "id": "cTnl8Q7qfDDJ"
      }
    },
    {
      "cell_type": "markdown",
      "source": [
        "**12.What is method overriding in OOP?**\n",
        "- Method overriding in Object-Oriented Programming (OOP) is a feature that allows a subclass (child class) to provide a specific implementation of a method that is already defined in its superclass (parent class).\n",
        "\n"
      ],
      "metadata": {
        "id": "Nu1_7Ibwf7AA"
      }
    },
    {
      "cell_type": "markdown",
      "source": [
        "13**.What is a property decorator in Python**?\n",
        "- The @property decorator in Python is used to define a method that acts like an attribute. It allows you to define getter behavior for a class attribute, so you can access a method like a variable."
      ],
      "metadata": {
        "id": "6IZ5mpmB5M1J"
      }
    },
    {
      "cell_type": "markdown",
      "source": [
        "14**.Why is polymorphism important in OOP?**\n",
        "- Polymorphism is important in Object-Oriented Programming (OOP) because it allows objects of different classes to be treated as objects of a common superclass, enabling code flexibility, reusability, and scalability."
      ],
      "metadata": {
        "id": "8x83ZGrj5fHy"
      }
    },
    {
      "cell_type": "markdown",
      "source": [
        "**15.What is an abstract class in Python?**\n",
        "- An abstract class in Python is a class that cannot be instantiated on its own and is designed to be inherited by other classes. It can define abstract methods that must be implemented by its subclasses.\n",
        "\n"
      ],
      "metadata": {
        "id": "CtSCFjb55tfY"
      }
    },
    {
      "cell_type": "markdown",
      "source": [
        "16**.What are the advantages of OOP?**\n",
        "-\n",
        "\n",
        "---\n",
        "\n",
        "Object-Oriented Programming (OOP) provides several advantages:\n",
        "\n",
        "1. **Modularity**: OOP allows code to be organized into classes, making it easier to manage and understand.\n",
        "\n",
        "2. **Reusability**: Code can be reused through inheritance, reducing duplication and improving development efficiency.\n",
        "\n",
        "3. **Encapsulation**: OOP hides internal implementation details and protects data, enhancing security and maintainability.\n",
        "\n",
        "4. **Inheritance**: It enables new classes to derive properties and behaviors from existing classes, promoting code reuse.\n",
        "\n",
        "5. **Polymorphism**: OOP allows objects to be treated as instances of their parent class, supporting flexibility and dynamic behavior.\n",
        "\n",
        "6. **Scalability and Maintainability**: Well-structured OOP code is easier to scale and maintain as projects grow.\n",
        "\n",
        "7. **Improved Productivity**: OOP increases productivity by promoting code reuse, modular design, and easier debugging.\n"
      ],
      "metadata": {
        "id": "BCsIfktB6EFE"
      }
    },
    {
      "cell_type": "markdown",
      "source": [
        "**17.What is the difference between a class variable and an instance variable**?\n",
        "- ### 📌 Difference Between Class Variable and Instance Variable in Python (Statement Format)\n",
        "\n",
        "1. **Definition**:\n",
        "   A **class variable** is shared across **all instances** of a class, while an **instance variable** is **unique to each object**.\n",
        "\n",
        "2. **Declaration**:\n",
        "   A class variable is defined **inside the class** but **outside all methods**, whereas an instance variable is defined **inside a method**, typically within `__init__`.\n",
        "\n",
        "3. **Memory Sharing**:\n",
        "   All objects **share** the same copy of a class variable, but each object has its **own separate copy** of instance variables.\n",
        "\n",
        "4. **Use Case**:\n",
        "   Class variables are used for **data common to all objects**, such as a counter or constant. Instance variables are used to store **data specific to each object**, such as name, age, or ID.\n",
        "\n",
        "5. **Modification**:\n",
        "   Modifying a class variable affects **all instances** (unless overridden in an instance), while modifying an instance variable affects **only that particular object**.\n",
        "\n",
        "---\n",
        "\n",
        "### 🔍 Example:\n",
        "\n",
        "```python\n",
        "class Person:\n",
        "    species = \"Human\"            # Class variable\n",
        "\n",
        "    def __init__(self, name):\n",
        "        self.name = name         # Instance variable\n",
        "\n",
        "p1 = Person(\"Alice\")\n",
        "p2 = Person(\"Bob\")\n",
        "\n",
        "print(p1.species)  # Human\n",
        "print(p2.species)  # Human\n",
        "print(p1.name)     # Alice\n",
        "print(p2.name)     # Bob\n",
        "```\n",
        "\n",
        "In this example, `species` is a class variable (same for all), while `name` is an instance variable (different for each).\n",
        "\n",
        "---\n",
        "\n",
        "### 🧾 Summary Statement:\n",
        "\n",
        "A **class variable** is shared among all instances of a class, while an **instance variable** is unique to each object and stores data specific to that object.\n"
      ],
      "metadata": {
        "id": "oYg3wW2E6uaU"
      }
    },
    {
      "cell_type": "markdown",
      "source": [
        "18.**What is multiple inheritance in Python?**\n",
        "- Multiple inheritance in Python is a feature that allows a class to inherit attributes and methods from more than one parent class.Multiple inheritance in Python is when a class is derived from two or more parent classes, allowing it to inherit and combine the functionality of all the parent classes.\n",
        "\n"
      ],
      "metadata": {
        "id": "TEs0H60T7UY2"
      }
    },
    {
      "cell_type": "markdown",
      "source": [
        "19**.Explain the purpose of ‘’__str__’ and ‘__repr__’ ‘ methods in Python?**\n",
        "- The __str__ and __repr__ methods in Python are special methods (also called dunder methods) that define how an object is represented as a string.\n",
        "In Python, the __str__ method is used to define a human-readable string representation of an object, while the __repr__ method is used to define an unambiguous string representation of an object, mainly for debugging and development"
      ],
      "metadata": {
        "id": "9vtsDJrk8llh"
      }
    },
    {
      "cell_type": "markdown",
      "source": [
        "20.**What is the significance of the ‘super()’ function in Python**?\n",
        "- In Python, the super() function is used to call a method from a parent (or superclass) within a child (or subclass), enabling access to the parent class’s methods and properties without explicitly naming the parent.\n",
        "Significance of super() in Python:\n",
        "✅ Avoids Hardcoding the Parent Class Name:\n",
        "\n",
        "You don’t have to explicitly mention the parent class, making code more maintainable and flexible.\n",
        "\n",
        "✅ Supports Multiple Inheritance:\n",
        "\n",
        "In complex inheritance hierarchies, super() follows the Method Resolution Order (MRO) and ensures that every class in the hierarchy is initialized correctly.\n",
        "\n",
        "✅ Used Commonly in Constructors:\n",
        "\n",
        "Often used in __init__() methods to initialize the parent class.\n",
        "\n",
        "✅ Helps in Cooperative Inheritance:\n",
        "\n",
        "Essential for classes that are part of a multiple inheritance chain to ensure all base classes are initialized.\n",
        "\n",
        "\n"
      ],
      "metadata": {
        "id": "Qy59AYTq9E7u"
      }
    },
    {
      "cell_type": "markdown",
      "source": [
        "21.**What is the significance of the __del__ method in Python?**\n",
        "- In Python, the __del__ method is a special method known as a destructor, and it is automatically called when an object is about to be destroyed by the garbage collector\n",
        "Significance of __del__ Method:\n",
        "✅ Resource Cleanup:\n",
        "\n",
        "Used to release external resources like files, network connections, or database handles before the object is destroyed.\n",
        "\n",
        "✅ Defines Custom Finalization Logic:\n",
        "\n",
        "Allows developers to define what should happen when an object is deleted or goes out of scope.\n",
        "\n",
        "⚠️ Called Automatically:\n",
        "\n",
        "Python calls __del__() when an object’s reference count drops to zero."
      ],
      "metadata": {
        "id": "NDQ0_YZA9kUM"
      }
    },
    {
      "cell_type": "markdown",
      "source": [
        "22.What is the difference between @staticmethod and @classmethod in Python?\n",
        "- In Python, @staticmethod and @classmethod are decorators used to define methods inside a class that are not instance methods, but they differ in how they access class data and behave.\n",
        "| Feature              | `@staticmethod`                                       | `@classmethod`                                      |\n",
        "| -------------------- | ----------------------------------------------------- | --------------------------------------------------- |\n",
        "| First argument       | Does **not** take any special first argument          | Takes `cls` as the first argument (refers to class) |\n",
        "| Access to class data | Cannot access class or instance data                  | Can access and modify class-level data              |\n",
        "| Bound to             | The class (but doesn’t receive class/instance info)   | The class                                           |\n",
        "| Use case             | Utility methods; logic independent of class or object | Factory methods; class-level operations             |\n",
        "Use @staticmethod when:\n",
        "\n",
        "The method does not need access to the class (cls) or instance (self)\n",
        "\n",
        "It's a utility/helper function that logically belongs to the class\n",
        "\n",
        "Use @classmethod when:\n",
        "\n",
        "You need to access or modify class state\n",
        "\n",
        "You are writing factory methods (alternate constructors)\n",
        "\n"
      ],
      "metadata": {
        "id": "6y-zg2CI-Nai"
      }
    },
    {
      "cell_type": "markdown",
      "source": [
        "23.**How does polymorphism work in Python with inheritance?**\n",
        "- In Python, polymorphism with inheritance allows objects of different subclasses to be treated as objects of a common superclass, where each subclass can define its own version of a method, enabling dynamic method resolution at runtime.\n",
        "✅ Common Interface, Different Behavior:\n",
        "\n",
        "A superclass defines a method, and subclasses override it with their own implementation.\n",
        "\n",
        "✅ Single Call, Multiple Forms:\n",
        "\n",
        "The same method call on different objects (subclasses) produces different outcomes depending on the object's class.\n",
        "\n",
        "✅ Enables Flexible and Extensible Code:\n",
        "\n",
        "You can write code that works on the superclass, and it automatically works for any subclass."
      ],
      "metadata": {
        "id": "k0M5wNE__JMF"
      }
    },
    {
      "cell_type": "markdown",
      "source": [
        "**24.What is method chaining in Python OOP?**\n",
        "- Method chaining in Python OOP is a technique where multiple methods are called on the same object in a single line, by ensuring that each method returns self.\n",
        "Each method performs some operation and then returns the object itself (self).\n",
        "\n",
        "This allows chaining multiple method calls one after another on the same instance.\n",
        "\n",
        "It leads to more concise and readable code.\n",
        "\n"
      ],
      "metadata": {
        "id": "U5UX6jiQ_tQY"
      }
    },
    {
      "cell_type": "markdown",
      "source": [
        "25.**What is the purpose of the __call__ method in Python?**\n",
        "- In Python, the __call__ method allows an object to be called like a function. If a class defines __call__, then its instances can be \"called\" using parentheses, just like a regular function.\n",
        "\n"
      ],
      "metadata": {
        "id": "TmTU1ZXhARRW"
      }
    },
    {
      "cell_type": "markdown",
      "source": [
        " **PRACTICLE QUESTIONS**"
      ],
      "metadata": {
        "id": "MF9tiI-g333G"
      }
    },
    {
      "cell_type": "markdown",
      "source": [
        "1.Create a parent class Animal with a method speak() that prints a generic message. Create a child class Dog\n",
        "that overrides the speak() method to print \"Bark!\"."
      ],
      "metadata": {
        "id": "Wx2grmnb4Kjs"
      }
    },
    {
      "cell_type": "code",
      "source": [
        "# Parent class\n",
        "class Animal:\n",
        "    def speak(self):\n",
        "        print(\"This animal makes a sound.\")\n",
        "\n",
        "# Child class\n",
        "class Dog(Animal):\n",
        "    def speak(self):\n",
        "        print(\"Bark!\")\n",
        "\n",
        "# Example usage\n",
        "a = Animal()\n",
        "a.speak()  # Output: This animal makes a sound.\n",
        "\n",
        "d = Dog()\n",
        "d.speak()  # Output: Bark!\n"
      ],
      "metadata": {
        "colab": {
          "base_uri": "https://localhost:8080/"
        },
        "id": "ULMQHap_4YgA",
        "outputId": "2ebeaa70-9a8d-4a2f-92b8-5d2679b3a12a"
      },
      "execution_count": 1,
      "outputs": [
        {
          "output_type": "stream",
          "name": "stdout",
          "text": [
            "This animal makes a sound.\n",
            "Bark!\n"
          ]
        }
      ]
    },
    {
      "cell_type": "markdown",
      "source": [
        "2. Write a program to create an abstract class Shape with a method area(). Derive classes Circle and Rectangle\n",
        "from it and implement the area() method in both."
      ],
      "metadata": {
        "id": "5h2_bipl4lIt"
      }
    },
    {
      "cell_type": "code",
      "source": [
        "from abc import ABC, abstractmethod\n",
        "import math\n",
        "\n",
        "# Abstract base class\n",
        "class Shape(ABC):\n",
        "    @abstractmethod\n",
        "    def area(self):\n",
        "        pass\n",
        "\n",
        "# Derived class: Circle\n",
        "class Circle(Shape):\n",
        "    def __init__(self, radius):\n",
        "        self.radius = radius\n",
        "\n",
        "    def area(self):\n",
        "        return math.pi * self.radius ** 2\n",
        "\n",
        "# Derived class: Rectangle\n",
        "class Rectangle(Shape):\n",
        "    def __init__(self, length, width):\n",
        "        self.length = length\n",
        "        self.width = width\n",
        "\n",
        "    def area(self):\n",
        "        return self.length * self.width\n",
        "\n",
        "# Example usage\n",
        "circle = Circle(5)\n",
        "print(\"Area of Circle:\", circle.area())  # Output: Area of Circle: 78.53981633974483\n",
        "\n",
        "rectangle = Rectangle(4, 6)\n",
        "print(\"Area of Rectangle:\", rectangle.area())  # Output: Area of Rectangle: 24\n"
      ],
      "metadata": {
        "colab": {
          "base_uri": "https://localhost:8080/"
        },
        "id": "4fZ97JXp4v-T",
        "outputId": "92f9c3eb-9cf1-4fb8-bc0d-0959b7124043"
      },
      "execution_count": 2,
      "outputs": [
        {
          "output_type": "stream",
          "name": "stdout",
          "text": [
            "Area of Circle: 78.53981633974483\n",
            "Area of Rectangle: 24\n"
          ]
        }
      ]
    },
    {
      "cell_type": "markdown",
      "source": [
        "3.. Implement a multi-level inheritance scenario where a class Vehicle has an attribute type. Derive a class Car\n",
        "and further derive a class ElectricCar that adds a battery attribute."
      ],
      "metadata": {
        "id": "Ku6_BLKP4y64"
      }
    },
    {
      "cell_type": "code",
      "source": [
        "# Base class\n",
        "class Vehicle:\n",
        "    def __init__(self, vehicle_type):\n",
        "        self.type = vehicle_type\n",
        "\n",
        "# Derived class from Vehicle\n",
        "class Car(Vehicle):\n",
        "    def __init__(self, vehicle_type, brand):\n",
        "        super().__init__(vehicle_type)\n",
        "        self.brand = brand\n",
        "\n",
        "# Further derived class from Car\n",
        "class ElectricCar(Car):\n",
        "    def __init__(self, vehicle_type, brand, battery):\n",
        "        super().__init__(vehicle_type, brand)\n",
        "        self.battery = battery\n",
        "\n",
        "    def display_info(self):\n",
        "        print(f\"Type: {self.type}\")\n",
        "        print(f\"Brand: {self.brand}\")\n",
        "        print(f\"Battery Capacity: {self.battery} kWh\")\n",
        "\n",
        "# Example usage\n",
        "my_electric_car = ElectricCar(\"Four Wheeler\", \"Tesla\", 75)\n",
        "my_electric_car.display_info()\n"
      ],
      "metadata": {
        "colab": {
          "base_uri": "https://localhost:8080/"
        },
        "id": "MYOVyU_m4-xe",
        "outputId": "c6033b31-eff5-4862-cba7-ed2b65d1e968"
      },
      "execution_count": 4,
      "outputs": [
        {
          "output_type": "stream",
          "name": "stdout",
          "text": [
            "Type: Four Wheeler\n",
            "Brand: Tesla\n",
            "Battery Capacity: 75 kWh\n"
          ]
        }
      ]
    },
    {
      "cell_type": "markdown",
      "source": [
        "4.Demonstrate polymorphism by creating a base class Bird with a method fly(). Create two derived classes\n",
        "Sparrow and Penguin that override the fly() method.\n"
      ],
      "metadata": {
        "id": "gDE0yvOP5D8n"
      }
    },
    {
      "cell_type": "code",
      "source": [
        "# Base class\n",
        "class Bird:\n",
        "    def fly(self):\n",
        "        print(\"Some birds can fly.\")\n",
        "\n",
        "# Derived class: Sparrow\n",
        "class Sparrow(Bird):\n",
        "    def fly(self):\n",
        "        print(\"Sparrow flies high in the sky.\")\n",
        "\n",
        "# Derived class: Penguin\n",
        "class Penguin(Bird):\n",
        "    def fly(self):\n",
        "        print(\"Penguins cannot fly, they swim.\")\n",
        "\n",
        "# Function to demonstrate polymorphism\n",
        "def show_flying_ability(bird):\n",
        "    bird.fly()\n",
        "\n",
        "# Example usage\n",
        "bird1 = Sparrow()\n",
        "bird2 = Penguin()\n",
        "\n",
        "show_flying_ability(bird1)   # Output: Sparrow flies high in the sky.\n",
        "show_flying_ability(bird2)   # Output: Penguins cannot fly, they swim.\n"
      ],
      "metadata": {
        "colab": {
          "base_uri": "https://localhost:8080/"
        },
        "id": "8qff9NuR5S7B",
        "outputId": "927427d2-a923-4cae-d6ee-7e76c214d8d2"
      },
      "execution_count": 5,
      "outputs": [
        {
          "output_type": "stream",
          "name": "stdout",
          "text": [
            "Sparrow flies high in the sky.\n",
            "Penguins cannot fly, they swim.\n"
          ]
        }
      ]
    },
    {
      "cell_type": "markdown",
      "source": [
        "5.Write a program to demonstrate encapsulation by creating a class BankAccount with private attributes\n",
        "balance and methods to deposit, withdraw, and check balance."
      ],
      "metadata": {
        "id": "TWx9uKAP5V9u"
      }
    },
    {
      "cell_type": "code",
      "source": [
        "class BankAccount:\n",
        "    def __init__(self, initial_balance=0):\n",
        "        self.__balance = initial_balance  # Private attribute\n",
        "\n",
        "    def deposit(self, amount):\n",
        "        if amount > 0:\n",
        "            self.__balance += amount\n",
        "            print(f\"Deposited ₹{amount}\")\n",
        "        else:\n",
        "            print(\"Deposit amount must be positive.\")\n",
        "\n",
        "    def withdraw(self, amount):\n",
        "        if amount > 0:\n",
        "            if amount <= self.__balance:\n",
        "                self.__balance -= amount\n",
        "                print(f\"Withdrew ₹{amount}\")\n",
        "            else:\n",
        "                print(\"Insufficient balance.\")\n",
        "        else:\n",
        "            print(\"Withdrawal amount must be positive.\")\n",
        "\n",
        "    def get_balance(self):\n",
        "        return self.__balance\n",
        "\n",
        "# Example usage\n",
        "account = BankAccount(1000)\n",
        "account.deposit(500)         # Deposited ₹500\n",
        "account.withdraw(300)        # Withdrew ₹300\n",
        "print(\"Current Balance:\", account.get_balance())  # Output: 1200\n",
        "\n",
        "# Trying to access private attribute directly (not recommended)\n",
        "# print(account.__balance)  # This will raise an AttributeError\n"
      ],
      "metadata": {
        "colab": {
          "base_uri": "https://localhost:8080/"
        },
        "id": "TRSQADSL5hZa",
        "outputId": "698cbb11-52b8-4467-e379-a62636576167"
      },
      "execution_count": 6,
      "outputs": [
        {
          "output_type": "stream",
          "name": "stdout",
          "text": [
            "Deposited ₹500\n",
            "Withdrew ₹300\n",
            "Current Balance: 1200\n"
          ]
        }
      ]
    },
    {
      "cell_type": "markdown",
      "source": [
        "6.Demonstrate runtime polymorphism using a method play() in a base class Instrument. Derive classes Guitar\n",
        "and Piano that implement their own version of play()."
      ],
      "metadata": {
        "id": "eKsVpzQi5lcM"
      }
    },
    {
      "cell_type": "code",
      "source": [
        "# Base class\n",
        "class Instrument:\n",
        "    def play(self):\n",
        "        print(\"Playing an instrument.\")\n",
        "\n",
        "# Derived class: Guitar\n",
        "class Guitar(Instrument):\n",
        "    def play(self):\n",
        "        print(\"Strumming the guitar.\")\n",
        "\n",
        "# Derived class: Piano\n",
        "class Piano(Instrument):\n",
        "    def play(self):\n",
        "        print(\"Playing the piano keys.\")\n",
        "\n",
        "# Function to demonstrate runtime polymorphism\n",
        "def start_performance(instrument):\n",
        "    instrument.play()\n",
        "\n",
        "# Example usage\n",
        "inst1 = Guitar()\n",
        "inst2 = Piano()\n",
        "\n",
        "start_performance(inst1)   # Output: Strumming the guitar.\n",
        "start_performance(inst2)   # Output: Playing the piano keys.\n"
      ],
      "metadata": {
        "colab": {
          "base_uri": "https://localhost:8080/"
        },
        "id": "xWiIxedn53BV",
        "outputId": "2ec763bf-f2e8-49dc-eea4-c7c7385d1d10"
      },
      "execution_count": 7,
      "outputs": [
        {
          "output_type": "stream",
          "name": "stdout",
          "text": [
            "Strumming the guitar.\n",
            "Playing the piano keys.\n"
          ]
        }
      ]
    },
    {
      "cell_type": "markdown",
      "source": [
        "7.Create a class MathOperations with a class method add_numbers() to add two numbers and a static\n",
        "method subtract_numbers() to subtract two numbers."
      ],
      "metadata": {
        "id": "hN9qL-zq5_lM"
      }
    },
    {
      "cell_type": "code",
      "source": [
        "class MathOperations:\n",
        "    @classmethod\n",
        "    def add_numbers(cls, a, b):\n",
        "        return a + b\n",
        "\n",
        "    @staticmethod\n",
        "    def subtract_numbers(a, b):\n",
        "        return a - b\n",
        "\n",
        "# Example usage\n",
        "sum_result = MathOperations.add_numbers(10, 5)\n",
        "print(\"Sum:\", sum_result)  # Output: Sum: 15\n",
        "\n",
        "diff_result = MathOperations.subtract_numbers(10, 5)\n",
        "print(\"Difference:\", diff_result)  # Output: Difference: 5\n"
      ],
      "metadata": {
        "colab": {
          "base_uri": "https://localhost:8080/"
        },
        "id": "hfE2PD2E6MDD",
        "outputId": "affb2888-2a35-4c40-95a8-f576e1681357"
      },
      "execution_count": 8,
      "outputs": [
        {
          "output_type": "stream",
          "name": "stdout",
          "text": [
            "Sum: 15\n",
            "Difference: 5\n"
          ]
        }
      ]
    },
    {
      "cell_type": "markdown",
      "source": [
        "8.Implement a class Person with a class method to count the total number of persons created."
      ],
      "metadata": {
        "id": "uYWLuPxz6ZGD"
      }
    },
    {
      "cell_type": "code",
      "source": [
        "class Person:\n",
        "    count = 0  # Class variable to keep track of number of instances\n",
        "\n",
        "    def __init__(self, name):\n",
        "        self.name = name\n",
        "        Person.count += 1  # Increment count when a new object is created\n",
        "\n",
        "    @classmethod\n",
        "    def total_persons(cls):\n",
        "        return cls.count\n",
        "\n",
        "# Example usage\n",
        "p1 = Person(\"Alice\")\n",
        "p2 = Person(\"Bob\")\n",
        "p3 = Person(\"Charlie\")\n",
        "\n",
        "print(\"Total Persons Created:\", Person.total_persons())  # Output: 3\n"
      ],
      "metadata": {
        "colab": {
          "base_uri": "https://localhost:8080/"
        },
        "id": "27pnyCq-6ixe",
        "outputId": "fcb6111b-93c6-4e89-f32a-5a763c806ccb"
      },
      "execution_count": 9,
      "outputs": [
        {
          "output_type": "stream",
          "name": "stdout",
          "text": [
            "Total Persons Created: 3\n"
          ]
        }
      ]
    },
    {
      "cell_type": "markdown",
      "source": [
        "9.Write a class Fraction with attributes numerator and denominator. Override the str method to display the\n",
        "fraction as \"numerator/denominator\"."
      ],
      "metadata": {
        "id": "rU6nfgiz6yL7"
      }
    },
    {
      "cell_type": "code",
      "source": [
        "class Fraction:\n",
        "    def __init__(self, numerator, denominator):\n",
        "        self.numerator = numerator\n",
        "        self.denominator = denominator\n",
        "\n",
        "    def __str__(self):\n",
        "        return f\"{self.numerator}/{self.denominator}\"\n",
        "\n",
        "# Example usage\n",
        "f1 = Fraction(3, 4)\n",
        "f2 = Fraction(7, 2)\n",
        "\n",
        "print(f1)  # Output: 3/4\n",
        "print(f2)  # Output: 7/2\n"
      ],
      "metadata": {
        "colab": {
          "base_uri": "https://localhost:8080/"
        },
        "id": "enXmATCI658y",
        "outputId": "4da8fb16-f4f1-4cf9-fd12-f3ccabff03b9"
      },
      "execution_count": 10,
      "outputs": [
        {
          "output_type": "stream",
          "name": "stdout",
          "text": [
            "3/4\n",
            "7/2\n"
          ]
        }
      ]
    },
    {
      "cell_type": "markdown",
      "source": [
        "10.. Demonstrate operator overloading by creating a class Vector and overriding the add method to add two\n",
        "vectors."
      ],
      "metadata": {
        "id": "Dp5OkfD47PzG"
      }
    },
    {
      "cell_type": "code",
      "source": [
        "class Vector:\n",
        "    def __init__(self, x, y):\n",
        "        self.x = x\n",
        "        self.y = y\n",
        "\n",
        "    # Overload the + operator\n",
        "    def __add__(self, other):\n",
        "        return Vector(self.x + other.x, self.y + other.y)\n",
        "\n",
        "    def __str__(self):\n",
        "        return f\"({self.x}, {self.y})\"\n",
        "\n",
        "# Example usage\n",
        "v1 = Vector(2, 3)\n",
        "v2 = Vector(4, 1)\n",
        "v3 = v1 + v2  # This uses the __add__ method\n",
        "\n",
        "print(\"v1:\", v1)  # Output: (2, 3)\n",
        "print(\"v2:\", v2)  # Output: (4, 1)\n",
        "print(\"v1 + v2 =\", v3)  # Output: (6, 4)\n"
      ],
      "metadata": {
        "colab": {
          "base_uri": "https://localhost:8080/"
        },
        "id": "Zfohyw2K7ez2",
        "outputId": "e6966d5b-3024-4c86-c724-b7c24094ec86"
      },
      "execution_count": 11,
      "outputs": [
        {
          "output_type": "stream",
          "name": "stdout",
          "text": [
            "v1: (2, 3)\n",
            "v2: (4, 1)\n",
            "v1 + v2 = (6, 4)\n"
          ]
        }
      ]
    },
    {
      "cell_type": "markdown",
      "source": [
        "11.Create a class Person with attributes name and age. Add a method greet() that prints \"Hello, my name is\n",
        "{name} and I am {age} years old.\"\n",
        "\n",
        "\n"
      ],
      "metadata": {
        "id": "TVWbWoBA7qFe"
      }
    },
    {
      "cell_type": "code",
      "source": [
        "class Person:\n",
        "    def __init__(self, name, age):\n",
        "        self.name = name\n",
        "        self.age = age\n",
        "\n",
        "    def greet(self):\n",
        "        print(f\"Hello, my name is {self.name} and I am {self.age} years old.\")\n",
        "\n",
        "# Example usage\n",
        "p1 = Person(\"Avinash\", 25)\n",
        "p1.greet()  # Output: Hello, my name is Avinash and I am 25 years old.\n"
      ],
      "metadata": {
        "colab": {
          "base_uri": "https://localhost:8080/"
        },
        "id": "hgzpbBYJ7xVZ",
        "outputId": "2abba3bc-f441-466d-b78d-45a245730a78"
      },
      "execution_count": 12,
      "outputs": [
        {
          "output_type": "stream",
          "name": "stdout",
          "text": [
            "Hello, my name is Avinash and I am 25 years old.\n"
          ]
        }
      ]
    },
    {
      "cell_type": "markdown",
      "source": [
        "12. Implement a class Student with attributes name and grades. Create a method average_grade() to compute\n",
        "the average of the grades"
      ],
      "metadata": {
        "id": "dXXhBhO179un"
      }
    },
    {
      "cell_type": "code",
      "source": [
        "class Student:\n",
        "    def __init__(self, name, grades):\n",
        "        self.name = name\n",
        "        self.grades = grades  # List of numbers\n",
        "\n",
        "    def average_grade(self):\n",
        "        if len(self.grades) == 0:\n",
        "            return 0  # Avoid division by zero\n",
        "        return sum(self.grades) / len(self.grades)\n",
        "\n",
        "# Example usage\n",
        "s1 = Student(\"Avinash\", [85, 90, 78, 92])\n",
        "print(f\"{s1.name}'s average grade is: {s1.average_grade():.2f}\")\n",
        "# Output: Avinash's average grade is: 86.25\n"
      ],
      "metadata": {
        "colab": {
          "base_uri": "https://localhost:8080/"
        },
        "id": "BI9KSX5w7_x9",
        "outputId": "1d723fc8-df56-49a7-8671-24291b2fb821"
      },
      "execution_count": 13,
      "outputs": [
        {
          "output_type": "stream",
          "name": "stdout",
          "text": [
            "Avinash's average grade is: 86.25\n"
          ]
        }
      ]
    },
    {
      "cell_type": "markdown",
      "source": [
        "13. Create a class Rectangle with methods set_dimensions() to set the dimensions and area() to calculate the\n",
        "area."
      ],
      "metadata": {
        "id": "MRlsZqPp8HHl"
      }
    },
    {
      "cell_type": "code",
      "source": [
        "class Rectangle:\n",
        "    def __init__(self):\n",
        "        self.length = 0\n",
        "        self.width = 0\n",
        "\n",
        "    def set_dimensions(self, length, width):\n",
        "        self.length = length\n",
        "        self.width = width\n",
        "\n",
        "    def area(self):\n",
        "        return self.length * self.width\n",
        "\n",
        "# Example usage\n",
        "rect = Rectangle()\n",
        "rect.set_dimensions(5, 3)\n",
        "print(\"Area of the rectangle:\", rect.area())  # Output: 15\n"
      ],
      "metadata": {
        "colab": {
          "base_uri": "https://localhost:8080/"
        },
        "id": "H29xx38n8MAH",
        "outputId": "c88b234f-5728-4466-baff-13fa729e4dd3"
      },
      "execution_count": 14,
      "outputs": [
        {
          "output_type": "stream",
          "name": "stdout",
          "text": [
            "Area of the rectangle: 15\n"
          ]
        }
      ]
    },
    {
      "cell_type": "markdown",
      "source": [
        "14.Create a class Employee with a method calculate_salary() that computes the salary based on hours worked\n",
        "and hourly rate. Create a derived class Manager that adds a bonus to the salary."
      ],
      "metadata": {
        "id": "ZhCoSS5j8V-v"
      }
    },
    {
      "cell_type": "code",
      "source": [
        "# Base class\n",
        "class Employee:\n",
        "    def __init__(self, name, hours_worked, hourly_rate):\n",
        "        self.name = name\n",
        "        self.hours_worked = hours_worked\n",
        "        self.hourly_rate = hourly_rate\n",
        "\n",
        "    def calculate_salary(self):\n",
        "        return self.hours_worked * self.hourly_rate\n",
        "\n",
        "# Derived class\n",
        "class Manager(Employee):\n",
        "    def __init__(self, name, hours_worked, hourly_rate, bonus):\n",
        "        super().__init__(name, hours_worked, hourly_rate)\n",
        "        self.bonus = bonus\n",
        "\n",
        "    def calculate_salary(self):\n",
        "        base_salary = super().calculate_salary()\n",
        "        return base_salary + self.bonus\n",
        "\n",
        "# Example usage\n",
        "emp = Employee(\"John\", 40, 300)\n",
        "print(f\"{emp.name}'s Salary: ₹{emp.calculate_salary()}\")  # Output: ₹12000\n",
        "\n",
        "mgr = Manager(\"Alice\", 40, 500, 5000)\n",
        "print(f\"{mgr.name}'s Salary with Bonus: ₹{mgr.calculate_salary()}\")  # Output: ₹25000\n"
      ],
      "metadata": {
        "colab": {
          "base_uri": "https://localhost:8080/"
        },
        "id": "-lezRgCH8faJ",
        "outputId": "74ae0887-222c-4343-888b-36efcae6f726"
      },
      "execution_count": 15,
      "outputs": [
        {
          "output_type": "stream",
          "name": "stdout",
          "text": [
            "John's Salary: ₹12000\n",
            "Alice's Salary with Bonus: ₹25000\n"
          ]
        }
      ]
    },
    {
      "cell_type": "markdown",
      "source": [
        "15. Create a class Product with attributes name, price, and quantity. Implement a method total_price() that\n",
        "calculates the total price of the product."
      ],
      "metadata": {
        "id": "xdnuV1QL8uNm"
      }
    },
    {
      "cell_type": "code",
      "source": [
        "class Product:\n",
        "    def __init__(self, name, price, quantity):\n",
        "        self.name = name\n",
        "        self.price = price\n",
        "        self.quantity = quantity\n",
        "\n",
        "    def total_price(self):\n",
        "        return self.price * self.quantity\n",
        "\n",
        "# Example usage\n",
        "p1 = Product(\"Laptop\", 50000, 2)\n",
        "print(f\"Total price for {p1.name}s: ₹{p1.total_price()}\")  # Output: ₹100000\n"
      ],
      "metadata": {
        "colab": {
          "base_uri": "https://localhost:8080/"
        },
        "id": "6aR-VZtC803v",
        "outputId": "e273d8e8-a288-4151-9ae4-a2e345249a1c"
      },
      "execution_count": 16,
      "outputs": [
        {
          "output_type": "stream",
          "name": "stdout",
          "text": [
            "Total price for Laptops: ₹100000\n"
          ]
        }
      ]
    },
    {
      "cell_type": "markdown",
      "source": [
        "16.. Create a class Animal with an abstract method sound(). Create two derived classes Cow and Sheep that\n",
        "implement the sound() method."
      ],
      "metadata": {
        "id": "ejExSevX86Hg"
      }
    },
    {
      "cell_type": "code",
      "source": [
        "from abc import ABC, abstractmethod\n",
        "\n",
        "# Abstract base class\n",
        "class Animal(ABC):\n",
        "    @abstractmethod\n",
        "    def sound(self):\n",
        "        pass\n",
        "\n",
        "# Derived class: Cow\n",
        "class Cow(Animal):\n",
        "    def sound(self):\n",
        "        print(\"Cow says: Moo!\")\n",
        "\n",
        "# Derived class: Sheep\n",
        "class Sheep(Animal):\n",
        "    def sound(self):\n",
        "        print(\"Sheep says: Baa!\")\n",
        "\n",
        "# Example usage\n",
        "cow = Cow()\n",
        "sheep = Sheep()\n",
        "\n",
        "cow.sound()   # Output: Cow says: Moo!\n",
        "sheep.sound() # Output: Sheep says: Baa!\n"
      ],
      "metadata": {
        "colab": {
          "base_uri": "https://localhost:8080/"
        },
        "id": "RVpU6ihw9Me7",
        "outputId": "14d21f7a-664f-4bc2-91fc-87707e018729"
      },
      "execution_count": 17,
      "outputs": [
        {
          "output_type": "stream",
          "name": "stdout",
          "text": [
            "Cow says: Moo!\n",
            "Sheep says: Baa!\n"
          ]
        }
      ]
    },
    {
      "cell_type": "markdown",
      "source": [
        "17.Create a class Book with attributes title, author, and year_published. Add a method get_book_info() that\n",
        "returns a formatted string with the book's details"
      ],
      "metadata": {
        "id": "DAeX7NIr9XuC"
      }
    },
    {
      "cell_type": "code",
      "source": [
        "class Book:\n",
        "    def __init__(self, title, author, year_published):\n",
        "        self.title = title\n",
        "        self.author = author\n",
        "        self.year_published = year_published\n",
        "\n",
        "    def get_book_info(self):\n",
        "        return f\"'{self.title}' by {self.author} (Published in {self.year_published})\"\n",
        "\n",
        "# Example usage\n",
        "book1 = Book(\"The Alchemist\", \"Paulo Coelho\", 1988)\n",
        "print(book1.get_book_info())\n",
        "# Output: 'The Alchemist' by Paulo Coelho (Published in 1988)\n"
      ],
      "metadata": {
        "colab": {
          "base_uri": "https://localhost:8080/"
        },
        "id": "wmhHUL839hzz",
        "outputId": "d7665d3f-4b8d-45e3-9732-69dc8ae93281"
      },
      "execution_count": 18,
      "outputs": [
        {
          "output_type": "stream",
          "name": "stdout",
          "text": [
            "'The Alchemist' by Paulo Coelho (Published in 1988)\n"
          ]
        }
      ]
    },
    {
      "cell_type": "markdown",
      "source": [
        "18. Create a class House with attributes address and price. Create a derived class Mansion that adds an\n",
        "attribute number_of_rooms."
      ],
      "metadata": {
        "id": "xL7IiwIj9mvU"
      }
    },
    {
      "cell_type": "code",
      "source": [
        "# Base class\n",
        "class House:\n",
        "    def __init__(self, address, price):\n",
        "        self.address = address\n",
        "        self.price = price\n",
        "\n",
        "# Derived class\n",
        "class Mansion(House):\n",
        "    def __init__(self, address, price, number_of_rooms):\n",
        "        super().__init__(address, price)  # Call the constructor of House\n",
        "        self.number_of_rooms = number_of_rooms\n",
        "\n",
        "    def get_info(self):\n",
        "        return (f\"Mansion at {self.address}, Price: ₹{self.price}, \"\n",
        "                f\"Rooms: {self.number_of_rooms}\")\n",
        "\n",
        "# Example usage\n",
        "m1 = Mansion(\"Beverly Hills, LA\", 100000000, 15)\n",
        "print(m1.get_info())\n"
      ],
      "metadata": {
        "colab": {
          "base_uri": "https://localhost:8080/"
        },
        "id": "TCixLsKs93G5",
        "outputId": "48f0ff50-2234-45d9-e19a-6942d5cc3645"
      },
      "execution_count": 19,
      "outputs": [
        {
          "output_type": "stream",
          "name": "stdout",
          "text": [
            "Mansion at Beverly Hills, LA, Price: ₹100000000, Rooms: 15\n"
          ]
        }
      ]
    }
  ]
}